{
 "cells": [
  {
   "cell_type": "code",
   "execution_count": 78,
   "metadata": {},
   "outputs": [],
   "source": [
    "# Dependencies\n",
    "from bs4 import BeautifulSoup as bs4\n",
    "import requests\n",
    "import pandas as pd\n",
    "import pymongo\n",
    "from selenium import webdriver"
   ]
  },
  {
   "cell_type": "code",
   "execution_count": 79,
   "metadata": {},
   "outputs": [],
   "source": [
    "#import driver for chrome\n",
    "driver = webdriver.Chrome()"
   ]
  },
  {
   "cell_type": "code",
   "execution_count": 80,
   "metadata": {
    "tags": []
   },
   "outputs": [],
   "source": [
    "# Scrape the NASA Mars News Site and collect the latest News Title and Paragraph Text. Assign the text to variables to reference later.\n",
    "driver = webdriver.Chrome()\n",
    "url = 'https://mars.nasa.gov/news/?page=0&per_page=40&order=publish_date+desc%2Ccreated_at+desc&search=&blank_scope=Latest'\n",
    "driver.get(url)\n",
    "soup = bs4(driver.page_source, 'html.parser')\n"
   ]
  },
  {
   "cell_type": "code",
   "execution_count": 81,
   "metadata": {
    "tags": []
   },
   "outputs": [],
   "source": [
    "#use beautifulsoup to scrape the news title\n",
    "url = 'https://mars.nasa.gov/news/?page=0&per_page=40&order=publish_date+desc%2Ccreated_at+desc&search=&blank_scope=Latest'\n",
    "driver.get(url)\n",
    "soup = bs4(driver.page_source, 'html.parser')\n",
    "try:\n",
    "    news_title = soup.find_all(class_=\"content_title\")[1].text\n",
    "except:\n",
    "    news_title = []\n",
    "try:\n",
    "    news_desc = soup.find_all(class_=\"article_teaser_body\")[0].text\n",
    "except:\n",
    "    news_desc = []"
   ]
  },
  {
   "cell_type": "code",
   "execution_count": 82,
   "metadata": {
    "tags": []
   },
   "outputs": [
    {
     "output_type": "stream",
     "name": "stdout",
     "text": "https://www.jpl.nasa.gov/spaceimages/images/wallpaper/PIA18886-1920x1200.jpg\n"
    }
   ],
   "source": [
    "# Visit the url for JPL Featured Space Image here.\n",
    "url2 ='https://www.jpl.nasa.gov/spaceimages/?search=&category=Mars'\n",
    "driver.get(url2)\n",
    "soup2 = bs4(driver.page_source, 'html.parser')  \n",
    "\n",
    "# pull the featured image and clean\n",
    "featured_image_url = soup2.find('article', class_=\"carousel_item\")['style']\n",
    "featured_image_url = featured_image_url.replace(\"background-image: url('\",\"\").replace(\"');\",\"\")\n",
    "\n",
    "image_url = f'https://www.jpl.nasa.gov{featured_image_url}'\n",
    "print(image_url)"
   ]
  },
  {
   "cell_type": "code",
   "execution_count": 83,
   "metadata": {
    "tags": []
   },
   "outputs": [
    {
     "output_type": "stream",
     "name": "stdout",
     "text": "https://www.jpl.nasa.gov/spaceimages/?search=&category=Mars/spaceimages/images/mediumsize/PIA18886_ip.jpg\nNone\n"
    }
   ],
   "source": [
    "# Find the featured image source and use\n",
    "featured_image_url = soup2.find('a',class_=\"button fancybox\")['data-fancybox-href']\n",
    "image_url = print(f\"{url2}{featured_image_url}\")\n",
    "print(image_url)"
   ]
  },
  {
   "cell_type": "code",
   "execution_count": 84,
   "metadata": {},
   "outputs": [],
   "source": [
    "# Visit the Mars Weather twitter account here and scrape the latest Mars weather tweet from the page. Save the tweet text for the weather report as a variable called mars_weather.\n",
    "url3 ='https://twitter.com/marswxreport?lang=en'\n",
    "driver.get(url3)\n",
    "soup3 = bs4(driver.page_source, 'html.parser')\n"
   ]
  },
  {
   "cell_type": "code",
   "execution_count": 85,
   "metadata": {
    "tags": []
   },
   "outputs": [
    {
     "output_type": "stream",
     "name": "stdout",
     "text": "None\n"
    }
   ],
   "source": [
    "#pull the latest tweet with beautifulsoup\n",
    "mars_weather = soup3.findAll(class_=\"tweet-text\")[0].text\n",
    "print(mars_weather)"
   ]
  },
  {
   "cell_type": "code",
   "execution_count": 86,
   "metadata": {
    "tags": []
   },
   "outputs": [
    {
     "output_type": "stream",
     "name": "stdout",
     "text": "<table border=\"1\" class=\"dataframe\">\n  <thead>\n    <tr style=\"text-align: right;\">\n      <th></th>\n      <th>0</th>\n      <th>1</th>\n    </tr>\n  </thead>\n  <tbody>\n    <tr>\n      <th>0</th>\n      <td>Equatorial Diameter:</td>\n      <td>6,792 km</td>\n    </tr>\n    <tr>\n      <th>1</th>\n      <td>Polar Diameter:</td>\n      <td>6,752 km</td>\n    </tr>\n    <tr>\n      <th>2</th>\n      <td>Mass:</td>\n      <td>6.39 × 10^23 kg (0.11 Earths)</td>\n    </tr>\n    <tr>\n      <th>3</th>\n      <td>Moons:</td>\n      <td>2 (Phobos &amp; Deimos)</td>\n    </tr>\n    <tr>\n      <th>4</th>\n      <td>Orbit Distance:</td>\n      <td>227,943,824 km (1.38 AU)</td>\n    </tr>\n    <tr>\n      <th>5</th>\n      <td>Orbit Period:</td>\n      <td>687 days (1.9 years)</td>\n    </tr>\n    <tr>\n      <th>6</th>\n      <td>Surface Temperature:</td>\n      <td>-87 to -5 °C</td>\n    </tr>\n    <tr>\n      <th>7</th>\n      <td>First Record:</td>\n      <td>2nd millennium BC</td>\n    </tr>\n    <tr>\n      <th>8</th>\n      <td>Recorded By:</td>\n      <td>Egyptian astronomers</td>\n    </tr>\n  </tbody>\n</table>\n"
    }
   ],
   "source": [
    "# Visit the Mars Facts webpage here and use Pandas to scrape the table containing facts about the planet including Diameter, Mass, etc.\n",
    "url4 ='https://space-facts.com/mars/'\n",
    "data = pd.read_html(url4)\n",
    "df= data[0]\n",
    "# Use Pandas to convert the data to a HTML table string.\n",
    "html = df.to_html()\n",
    "print(html)\n"
   ]
  },
  {
   "cell_type": "code",
   "execution_count": 87,
   "metadata": {},
   "outputs": [],
   "source": [
    "# Visit the USGS Astrogeology site here to obtain high resolution images for each of Mar's hemispheres.\n",
    "url5 ='https://astrogeology.usgs.gov/search/results?q=hemisphere+enhanced&k1=target&v1=Mars'\n",
    "response5 = requests.get(url5)\n",
    "soup5 = bs4(response5.text, 'html.parser')\n"
   ]
  },
  {
   "cell_type": "code",
   "execution_count": 88,
   "metadata": {},
   "outputs": [],
   "source": [
    "# Initialize PyMongo to work with MongoDBs\n",
    "conn = 'mongodb://localhost:27017'\n",
    "client = pymongo.MongoClient(conn)"
   ]
  },
  {
   "cell_type": "code",
   "execution_count": 89,
   "metadata": {},
   "outputs": [],
   "source": [
    "# Define database and collection\n",
    "db = client.nhl_db\n",
    "collection = db.mars"
   ]
  },
  {
   "cell_type": "code",
   "execution_count": 90,
   "metadata": {
    "tags": []
   },
   "outputs": [
    {
     "output_type": "stream",
     "name": "stdout",
     "text": "['https://astrogeology.usgs.gov/cache/images/39d3266553462198bd2fbc4d18fbed17_cerberus_enhanced.tif_thumb.png', 'https://astrogeology.usgs.gov/cache/images/08eac6e22c07fb1fe72223a79252de20_schiaparelli_enhanced.tif_thumb.png', 'https://astrogeology.usgs.gov/cache/images/55a0a1e2796313fdeafb17c35925e8ac_syrtis_major_enhanced.tif_thumb.png', 'https://astrogeology.usgs.gov/cache/images/4e59980c1c57f89c680c0e1ccabbeff1_valles_marineris_enhanced.tif_thumb.png']\n{'news_title': \"NASA Readies Perseverance Mars Rover's Earthly Twin \", 'news_desc': \"Did you know NASA's next Mars rover has a nearly identical sibling on Earth for testing? Even better, it's about to roll for the first time through a replica Martian landscape.\", 'image_url': None, 'mars_weather': None, 'html': '<table border=\"1\" class=\"dataframe\">\\n  <thead>\\n    <tr style=\"text-align: right;\">\\n      <th></th>\\n      <th>0</th>\\n      <th>1</th>\\n    </tr>\\n  </thead>\\n  <tbody>\\n    <tr>\\n      <th>0</th>\\n      <td>Equatorial Diameter:</td>\\n      <td>6,792 km</td>\\n    </tr>\\n    <tr>\\n      <th>1</th>\\n      <td>Polar Diameter:</td>\\n      <td>6,752 km</td>\\n    </tr>\\n    <tr>\\n      <th>2</th>\\n      <td>Mass:</td>\\n      <td>6.39 × 10^23 kg (0.11 Earths)</td>\\n    </tr>\\n    <tr>\\n      <th>3</th>\\n      <td>Moons:</td>\\n      <td>2 (Phobos &amp; Deimos)</td>\\n    </tr>\\n    <tr>\\n      <th>4</th>\\n      <td>Orbit Distance:</td>\\n      <td>227,943,824 km (1.38 AU)</td>\\n    </tr>\\n    <tr>\\n      <th>5</th>\\n      <td>Orbit Period:</td>\\n      <td>687 days (1.9 years)</td>\\n    </tr>\\n    <tr>\\n      <th>6</th>\\n      <td>Surface Temperature:</td>\\n      <td>-87 to -5 °C</td>\\n    </tr>\\n    <tr>\\n      <th>7</th>\\n      <td>First Record:</td>\\n      <td>2nd millennium BC</td>\\n    </tr>\\n    <tr>\\n      <th>8</th>\\n      <td>Recorded By:</td>\\n      <td>Egyptian astronomers</td>\\n    </tr>\\n  </tbody>\\n</table>', 'titles': ['Cerberus Hemisphere Enhanced', 'Schiaparelli Hemisphere Enhanced', 'Syrtis Major Hemisphere Enhanced', 'Valles Marineris Hemisphere Enhanced'], 'urls': ['https://astrogeology.usgs.gov/cache/images/39d3266553462198bd2fbc4d18fbed17_cerberus_enhanced.tif_thumb.png', 'https://astrogeology.usgs.gov/cache/images/08eac6e22c07fb1fe72223a79252de20_schiaparelli_enhanced.tif_thumb.png', 'https://astrogeology.usgs.gov/cache/images/55a0a1e2796313fdeafb17c35925e8ac_syrtis_major_enhanced.tif_thumb.png', 'https://astrogeology.usgs.gov/cache/images/4e59980c1c57f89c680c0e1ccabbeff1_valles_marineris_enhanced.tif_thumb.png']}\n"
    }
   ],
   "source": [
    "# Save both the image url string for the full resolution hemisphere image, and the Hemisphere title containing the hemisphere name. Use a Python dictionary to store the data using the keys img_url and title.\n",
    "\n",
    "# Append the dictionary with the image url string and the hemisphere title to a list. This list will contain one dictionary for each hemisphere.\n",
    "\n",
    "url5 ='https://astrogeology.usgs.gov/search/results?q=hemisphere+enhanced&k1=target&v1=Mars'\n",
    "response5 = requests.get(url5)\n",
    "soup5 = bs4(response5.text, 'html.parser')\n",
    "\n",
    "hemispheres = soup5.find_all(class_=\"item\")\n",
    "titles = []\n",
    "urls = []\n",
    "for hemi in hemispheres:\n",
    "    name = hemi.find('h3').text\n",
    "    src = hemi.find('img')['src']    \n",
    "    src= f\"https://astrogeology.usgs.gov{src}\"\n",
    "    titles.append(name)\n",
    "    urls.append(src)\n",
    "\n",
    "        \n",
    "mars_data = {\"news_title\": news_title\n",
    "    , \"news_desc\": news_desc\n",
    "    , \"image_url\": image_url\n",
    "    , \"mars_weather\": mars_weather\n",
    "    , \"html\":html\n",
    "    , \"titles\": titles\n",
    "    , \"urls\": urls}\n",
    "\n",
    "print(urls)\n",
    "print(mars_data)"
   ]
  },
  {
   "cell_type": "code",
   "execution_count": 91,
   "metadata": {
    "tags": []
   },
   "outputs": [
    {
     "output_type": "stream",
     "name": "stdout",
     "text": "Cerberus Hemisphere Enhanced\nhttps://astrogeology.usgs.gov/search/results?q=hemisphere+enhanced&k1=target&v1=Mars/search/map/Mars/Viking/cerberus_enhanced\n--------\nSchiaparelli Hemisphere Enhanced\nhttps://astrogeology.usgs.gov/search/results?q=hemisphere+enhanced&k1=target&v1=Mars/search/map/Mars/Viking/schiaparelli_enhanced\n--------\nSyrtis Major Hemisphere Enhanced\nhttps://astrogeology.usgs.gov/search/results?q=hemisphere+enhanced&k1=target&v1=Mars/search/map/Mars/Viking/syrtis_major_enhanced\n--------\nValles Marineris Hemisphere Enhanced\nhttps://astrogeology.usgs.gov/search/results?q=hemisphere+enhanced&k1=target&v1=Mars/search/map/Mars/Viking/valles_marineris_enhanced\n--------\n"
    }
   ],
   "source": [
    "#create a displat for the hemisphere data collected\n",
    "\n",
    "hemispheres = soup5.find_all(class_=\"item\")\n",
    "for hemi in hemispheres:\n",
    "    title = hemi.find('h3').text\n",
    "    src = hemi.find('a')\n",
    "    src= f\"{url5}{src['href']}\"\n",
    "    hemi_dict= {'title': title, 'URL': src}\n",
    "    print(title)\n",
    "    print(src)\n",
    "    print('--------')\n",
    "    post = {'title': title, 'URL': src}\n",
    "    collection.insert_one(post)"
   ]
  },
  {
   "cell_type": "code",
   "execution_count": 92,
   "metadata": {
    "tags": []
   },
   "outputs": [
    {
     "output_type": "stream",
     "name": "stdout",
     "text": "{'_id': ObjectId('5ed1569ac1c74b969690fd3c'), 'title': 'Cerberus Hemisphere Enhanced', 'URL': 'https://astrogeology.usgs.gov/search/results?q=hemisphere+enhanced&k1=target&v1=Mars/search/map/Mars/Viking/cerberus_enhanced'}\n{'_id': ObjectId('5ed1569ac1c74b969690fd3d'), 'title': 'Schiaparelli Hemisphere Enhanced', 'URL': 'https://astrogeology.usgs.gov/search/results?q=hemisphere+enhanced&k1=target&v1=Mars/search/map/Mars/Viking/schiaparelli_enhanced'}\n{'_id': ObjectId('5ed1569ac1c74b969690fd3e'), 'title': 'Syrtis Major Hemisphere Enhanced', 'URL': 'https://astrogeology.usgs.gov/search/results?q=hemisphere+enhanced&k1=target&v1=Mars/search/map/Mars/Viking/syrtis_major_enhanced'}\n{'_id': ObjectId('5ed1569ac1c74b969690fd3f'), 'title': 'Valles Marineris Hemisphere Enhanced', 'URL': 'https://astrogeology.usgs.gov/search/results?q=hemisphere+enhanced&k1=target&v1=Mars/search/map/Mars/Viking/valles_marineris_enhanced'}\n{'_id': ObjectId('5ed26781c33acfba84076671'), 'title': 'Cerberus Hemisphere Enhanced', 'URL': 'https://astrogeology.usgs.gov/search/results?q=hemisphere+enhanced&k1=target&v1=Mars/search/map/Mars/Viking/cerberus_enhanced'}\n{'_id': ObjectId('5ed26781c33acfba84076672'), 'title': 'Schiaparelli Hemisphere Enhanced', 'URL': 'https://astrogeology.usgs.gov/search/results?q=hemisphere+enhanced&k1=target&v1=Mars/search/map/Mars/Viking/schiaparelli_enhanced'}\n{'_id': ObjectId('5ed26781c33acfba84076673'), 'title': 'Syrtis Major Hemisphere Enhanced', 'URL': 'https://astrogeology.usgs.gov/search/results?q=hemisphere+enhanced&k1=target&v1=Mars/search/map/Mars/Viking/syrtis_major_enhanced'}\n{'_id': ObjectId('5ed26781c33acfba84076674'), 'title': 'Valles Marineris Hemisphere Enhanced', 'URL': 'https://astrogeology.usgs.gov/search/results?q=hemisphere+enhanced&k1=target&v1=Mars/search/map/Mars/Viking/valles_marineris_enhanced'}\n{'_id': ObjectId('5f591b1cd5a56cc4540094e9'), 'title': 'Cerberus Hemisphere Enhanced', 'URL': 'https://astrogeology.usgs.gov/search/results?q=hemisphere+enhanced&k1=target&v1=Mars/search/map/Mars/Viking/cerberus_enhanced'}\n{'_id': ObjectId('5f591b1cd5a56cc4540094ea'), 'title': 'Schiaparelli Hemisphere Enhanced', 'URL': 'https://astrogeology.usgs.gov/search/results?q=hemisphere+enhanced&k1=target&v1=Mars/search/map/Mars/Viking/schiaparelli_enhanced'}\n{'_id': ObjectId('5f591b1cd5a56cc4540094eb'), 'title': 'Syrtis Major Hemisphere Enhanced', 'URL': 'https://astrogeology.usgs.gov/search/results?q=hemisphere+enhanced&k1=target&v1=Mars/search/map/Mars/Viking/syrtis_major_enhanced'}\n{'_id': ObjectId('5f591b1cd5a56cc4540094ec'), 'title': 'Valles Marineris Hemisphere Enhanced', 'URL': 'https://astrogeology.usgs.gov/search/results?q=hemisphere+enhanced&k1=target&v1=Mars/search/map/Mars/Viking/valles_marineris_enhanced'}\n{'_id': ObjectId('5f591b92d5a56cc4540094ee'), 'title': 'Cerberus Hemisphere Enhanced', 'URL': 'https://astrogeology.usgs.gov/search/results?q=hemisphere+enhanced&k1=target&v1=Mars/search/map/Mars/Viking/cerberus_enhanced'}\n{'_id': ObjectId('5f591b93d5a56cc4540094ef'), 'title': 'Schiaparelli Hemisphere Enhanced', 'URL': 'https://astrogeology.usgs.gov/search/results?q=hemisphere+enhanced&k1=target&v1=Mars/search/map/Mars/Viking/schiaparelli_enhanced'}\n{'_id': ObjectId('5f591b93d5a56cc4540094f0'), 'title': 'Syrtis Major Hemisphere Enhanced', 'URL': 'https://astrogeology.usgs.gov/search/results?q=hemisphere+enhanced&k1=target&v1=Mars/search/map/Mars/Viking/syrtis_major_enhanced'}\n{'_id': ObjectId('5f591b93d5a56cc4540094f1'), 'title': 'Valles Marineris Hemisphere Enhanced', 'URL': 'https://astrogeology.usgs.gov/search/results?q=hemisphere+enhanced&k1=target&v1=Mars/search/map/Mars/Viking/valles_marineris_enhanced'}\n{'_id': ObjectId('5f591d03d5a56cc4540094f3'), 'title': 'Cerberus Hemisphere Enhanced', 'URL': 'https://astrogeology.usgs.gov/search/results?q=hemisphere+enhanced&k1=target&v1=Mars/search/map/Mars/Viking/cerberus_enhanced'}\n{'_id': ObjectId('5f591d03d5a56cc4540094f4'), 'title': 'Schiaparelli Hemisphere Enhanced', 'URL': 'https://astrogeology.usgs.gov/search/results?q=hemisphere+enhanced&k1=target&v1=Mars/search/map/Mars/Viking/schiaparelli_enhanced'}\n{'_id': ObjectId('5f591d03d5a56cc4540094f5'), 'title': 'Syrtis Major Hemisphere Enhanced', 'URL': 'https://astrogeology.usgs.gov/search/results?q=hemisphere+enhanced&k1=target&v1=Mars/search/map/Mars/Viking/syrtis_major_enhanced'}\n{'_id': ObjectId('5f591d03d5a56cc4540094f6'), 'title': 'Valles Marineris Hemisphere Enhanced', 'URL': 'https://astrogeology.usgs.gov/search/results?q=hemisphere+enhanced&k1=target&v1=Mars/search/map/Mars/Viking/valles_marineris_enhanced'}\n{'_id': ObjectId('5f59298ed5a56cc4540094f8'), 'title': 'Cerberus Hemisphere Enhanced', 'URL': 'https://astrogeology.usgs.gov/search/results?q=hemisphere+enhanced&k1=target&v1=Mars/search/map/Mars/Viking/cerberus_enhanced'}\n{'_id': ObjectId('5f59298fd5a56cc4540094f9'), 'title': 'Schiaparelli Hemisphere Enhanced', 'URL': 'https://astrogeology.usgs.gov/search/results?q=hemisphere+enhanced&k1=target&v1=Mars/search/map/Mars/Viking/schiaparelli_enhanced'}\n{'_id': ObjectId('5f59298fd5a56cc4540094fa'), 'title': 'Syrtis Major Hemisphere Enhanced', 'URL': 'https://astrogeology.usgs.gov/search/results?q=hemisphere+enhanced&k1=target&v1=Mars/search/map/Mars/Viking/syrtis_major_enhanced'}\n{'_id': ObjectId('5f59298fd5a56cc4540094fb'), 'title': 'Valles Marineris Hemisphere Enhanced', 'URL': 'https://astrogeology.usgs.gov/search/results?q=hemisphere+enhanced&k1=target&v1=Mars/search/map/Mars/Viking/valles_marineris_enhanced'}\n"
    }
   ],
   "source": [
    "# Display the MongoDB records created above\n",
    "mars = db.mars.find()\n",
    "for m in mars:\n",
    "    print(m)"
   ]
  },
  {
   "cell_type": "code",
   "execution_count": null,
   "metadata": {},
   "outputs": [],
   "source": []
  }
 ],
 "metadata": {
  "kernelspec": {
   "display_name": "Python 3",
   "language": "python",
   "name": "python3"
  },
  "language_info": {
   "codemirror_mode": {
    "name": "ipython",
    "version": 3
   },
   "file_extension": ".py",
   "mimetype": "text/x-python",
   "name": "python",
   "nbconvert_exporter": "python",
   "pygments_lexer": "ipython3",
   "version": "3.7.6-final"
  }
 },
 "nbformat": 4,
 "nbformat_minor": 2
}